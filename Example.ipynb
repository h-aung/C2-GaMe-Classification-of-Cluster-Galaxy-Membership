{
 "cells": [
  {
   "cell_type": "markdown",
   "id": "10547a60-a6fb-49b8-8062-aa439966b4c8",
   "metadata": {},
   "source": [
    "### Imports"
   ]
  },
  {
   "cell_type": "code",
   "execution_count": 1,
   "id": "6dceba1c-98c7-4f3f-8b51-b871a970796a",
   "metadata": {},
   "outputs": [],
   "source": [
    "import C2GaMe\n",
    "import numpy as np\n",
    "import pandas as pd\n",
    "from sklearn.ensemble import RandomForestClassifier\n",
    "from sklearn.neighbors import KNeighborsClassifier"
   ]
  },
  {
   "cell_type": "markdown",
   "id": "e95ed8f7-9bff-43fd-8e97-a218d1014018",
   "metadata": {},
   "source": [
    "### Application"
   ]
  },
  {
   "cell_type": "markdown",
   "id": "6603d4a0-2a43-4e70-a7b7-d00db1455af2",
   "metadata": {},
   "source": [
    "##### Load Classifier"
   ]
  },
  {
   "cell_type": "code",
   "execution_count": null,
   "id": "31858d80-8c19-4222-ad3d-0460f5b753ba",
   "metadata": {},
   "outputs": [],
   "source": [
    "# gain access to RF model class which uses sSFR as an input feature\n",
    "RF = C2GaMe.RF(sSFR=True)"
   ]
  },
  {
   "cell_type": "markdown",
   "id": "ff0d5d8a-ed82-4aa2-8d7d-106d29169f7b",
   "metadata": {},
   "source": [
    "##### Load Data"
   ]
  },
  {
   "cell_type": "code",
   "execution_count": null,
   "id": "e339334e-3d73-4468-ba13-8dbafbee17fe",
   "metadata": {},
   "outputs": [],
   "source": [
    "#here example data\n",
    "example_data = pd.DataFrame({\n",
    "    'd2d': np.arange(10),\n",
    "    'v': np.arange(10),\n",
    "    'ssfr': np.arange(10)\n",
    "})"
   ]
  },
  {
   "cell_type": "markdown",
   "id": "c9f6e0f7-c74d-4dad-b89a-307de238d27d",
   "metadata": {},
   "source": [
    "##### Make Predictions"
   ]
  },
  {
   "cell_type": "code",
   "execution_count": null,
   "id": "438dda04-f287-4ea3-b15c-9082e5c82f2b",
   "metadata": {},
   "outputs": [],
   "source": [
    "# use the RF object to make deterministic predictions\n",
    "RF.predict_det(example_data)\n",
    "\n",
    "# use the RF object to make probabilistic predictions\n",
    "RF.predict_proba(example_data)\n",
    "\n",
    "# See paper and figures for more details"
   ]
  },
  {
   "cell_type": "markdown",
   "id": "3489c8df-e710-4152-a7cb-baef206849eb",
   "metadata": {},
   "source": [
    "##### Other diagonistics"
   ]
  },
  {
   "cell_type": "code",
   "execution_count": null,
   "id": "3fb367f5-9196-422c-9841-6522d7eeb7d5",
   "metadata": {},
   "outputs": [],
   "source": [
    "# You can load the sklearn classifier object itself, and make your own analysis\n",
    "RF_clf: RandomForestClassifier = RF.classifier"
   ]
  },
  {
   "cell_type": "code",
   "execution_count": null,
   "id": "559f2343-1ef5-4b08-b701-719fb4e343bc",
   "metadata": {},
   "outputs": [],
   "source": []
  },
  {
   "cell_type": "markdown",
   "id": "0205b97d-9724-468d-812e-1fc88430357c",
   "metadata": {},
   "source": [
    "### Other Classifiers"
   ]
  },
  {
   "cell_type": "code",
   "execution_count": null,
   "id": "21ab453e-1ba5-4944-b4ac-7d46dfd87408",
   "metadata": {},
   "outputs": [],
   "source": [
    "#you may do the same with other classifier\n",
    "\n",
    "# gain access to the KNN model class which does not use sSFR as an input feature\n",
    "KNN = C2GaMe.KNN()\n",
    "\n",
    "\n",
    "# gain access to the classifier object itself\n",
    "KNN_clf: KNeighborsClassifier = KNN.classifier\n",
    "\n",
    "example_data_no_ssfr = pd.DataFrame({\n",
    "    'd2d': np.arange(10),\n",
    "    'v': np.arange(10),\n",
    "})\n",
    "\n",
    "# use the RF object to make deterministic predictions\n",
    "KNN.predict_det(example_data_no_ssfr)\n",
    "\n",
    "# use the RF object to make probabilistic predictions\n",
    "KNN.predict_proba(example_data_no_ssfr)"
   ]
  }
 ],
 "metadata": {
  "kernelspec": {
   "display_name": "Python 3 (ipykernel)",
   "language": "python",
   "name": "python3"
  },
  "language_info": {
   "codemirror_mode": {
    "name": "ipython",
    "version": 3
   },
   "file_extension": ".py",
   "mimetype": "text/x-python",
   "name": "python",
   "nbconvert_exporter": "python",
   "pygments_lexer": "ipython3",
   "version": "3.11.8"
  }
 },
 "nbformat": 4,
 "nbformat_minor": 5
}
